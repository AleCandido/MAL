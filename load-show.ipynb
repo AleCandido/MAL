{
 "cells": [
  {
   "cell_type": "markdown",
   "metadata": {},
   "source": [
    "# Present MAL data"
   ]
  },
  {
   "cell_type": "code",
   "execution_count": 1,
   "metadata": {},
   "outputs": [],
   "source": [
    "import gzip\n",
    "import glob\n",
    "\n",
    "import numpy as np\n",
    "import pandas as pd\n",
    "import xmltodict as xtd\n",
    "import qgrid\n",
    "from rich import console, markdown"
   ]
  },
  {
   "cell_type": "code",
   "execution_count": 2,
   "metadata": {},
   "outputs": [],
   "source": [
    "out = console.Console(width=60)\n",
    "Md = markdown.Markdown"
   ]
  },
  {
   "cell_type": "markdown",
   "metadata": {},
   "source": [
    "## Prepare Utilities"
   ]
  },
  {
   "cell_type": "markdown",
   "metadata": {},
   "source": [
    "Loading function, from an XML file to:\n",
    "- personal info, `pd.Series`\n",
    "- anime/manga table, `pd.DataFrame`"
   ]
  },
  {
   "cell_type": "code",
   "execution_count": 3,
   "metadata": {},
   "outputs": [],
   "source": [
    "def read_list(my_list, kind=\"anime\"):\n",
    "    dict_ = xtd.parse(my_list)[\"myanimelist\"]\n",
    "    myinfo_d = dict_[\"myinfo\"]\n",
    "    list_d = dict_[kind]\n",
    "\n",
    "    myinfo = pd.Series(myinfo_d)\n",
    "    list_df = pd.DataFrame(list_d)\n",
    "\n",
    "    return myinfo, list_df"
   ]
  },
  {
   "cell_type": "markdown",
   "metadata": {},
   "source": [
    "Apply types missing in XML"
   ]
  },
  {
   "cell_type": "code",
   "execution_count": 4,
   "metadata": {},
   "outputs": [],
   "source": [
    "def to_numeric(df):\n",
    "    for col in df.columns:\n",
    "        try:\n",
    "            df[col] = pd.to_numeric(df[col])\n",
    "            out.print(f\"[u]{col}[/u]:\", Md(f\"converted to **{df[col].dtype}**\"))\n",
    "        except ValueError:\n",
    "            pass\n",
    "    \n",
    "    return df\n",
    "\n",
    "def to_datetime(df):\n",
    "    for col in df.columns:\n",
    "        if \"_date\" in col:\n",
    "            df[col] = pd.to_datetime(df[col], format=\"%Y-%m-%d\", errors=\"coerce\")\n",
    "            out.print(f\"[u]{col}[/u]:\", Md(f\"converted to **{df[col].dtype}**\"))\n",
    "    \n",
    "    return df"
   ]
  },
  {
   "cell_type": "markdown",
   "metadata": {},
   "source": [
    "## Anime"
   ]
  },
  {
   "cell_type": "code",
   "execution_count": 5,
   "metadata": {},
   "outputs": [
    {
     "data": {
      "text/plain": [
       "user_id                    6962147\n",
       "user_name                 Annibale\n",
       "user_export_type                 1\n",
       "user_total_anime               548\n",
       "user_total_watching              7\n",
       "user_total_completed           198\n",
       "user_total_onhold               12\n",
       "user_total_dropped               8\n",
       "user_total_plantowatch         323\n",
       "dtype: object"
      ]
     },
     "execution_count": 5,
     "metadata": {},
     "output_type": "execute_result"
    }
   ],
   "source": [
    "anime_list_file = glob.glob(\"data/animelist*.gz\")[0]\n",
    "\n",
    "with gzip.open(anime_list_file, \"r\") as archive:\n",
    "    my_anime_list = archive.read()\n",
    "\n",
    "anime_info, anime = read_list(my_anime_list, \"anime\")\n",
    "\n",
    "anime_info"
   ]
  },
  {
   "cell_type": "code",
   "execution_count": 6,
   "metadata": {
    "collapsed": true
   },
   "outputs": [
    {
     "data": {
      "text/html": [
       "<pre style=\"white-space:pre;overflow-x:auto;line-height:normal;font-family:Menlo,'DejaVu Sans Mono',consolas,'Courier New',monospace\"><span style=\"text-decoration: underline\">series_animedb_id</span>:\n",
       "converted to <span style=\"font-weight: bold\">int64</span>                                          \n",
       "</pre>\n"
      ],
      "text/plain": [
       "<rich.jupyter.JupyterRenderable at 0x7f90f17ca730>"
      ]
     },
     "metadata": {},
     "output_type": "display_data"
    },
    {
     "data": {
      "text/html": [
       "<pre style=\"white-space:pre;overflow-x:auto;line-height:normal;font-family:Menlo,'DejaVu Sans Mono',consolas,'Courier New',monospace\"><span style=\"text-decoration: underline\">series_episodes</span>:\n",
       "converted to <span style=\"font-weight: bold\">int64</span>                                          \n",
       "</pre>\n"
      ],
      "text/plain": [
       "<rich.jupyter.JupyterRenderable at 0x7f911d2ba3d0>"
      ]
     },
     "metadata": {},
     "output_type": "display_data"
    },
    {
     "data": {
      "text/html": [
       "<pre style=\"white-space:pre;overflow-x:auto;line-height:normal;font-family:Menlo,'DejaVu Sans Mono',consolas,'Courier New',monospace\"><span style=\"text-decoration: underline\">my_id</span>:\n",
       "converted to <span style=\"font-weight: bold\">int64</span>                                          \n",
       "</pre>\n"
      ],
      "text/plain": [
       "<rich.jupyter.JupyterRenderable at 0x7f911d2baac0>"
      ]
     },
     "metadata": {},
     "output_type": "display_data"
    },
    {
     "data": {
      "text/html": [
       "<pre style=\"white-space:pre;overflow-x:auto;line-height:normal;font-family:Menlo,'DejaVu Sans Mono',consolas,'Courier New',monospace\"><span style=\"text-decoration: underline\">my_watched_episodes</span>:\n",
       "converted to <span style=\"font-weight: bold\">int64</span>                                          \n",
       "</pre>\n"
      ],
      "text/plain": [
       "<rich.jupyter.JupyterRenderable at 0x7f911d2ba3d0>"
      ]
     },
     "metadata": {},
     "output_type": "display_data"
    },
    {
     "data": {
      "text/html": [
       "<pre style=\"white-space:pre;overflow-x:auto;line-height:normal;font-family:Menlo,'DejaVu Sans Mono',consolas,'Courier New',monospace\"><span style=\"text-decoration: underline\">my_rated</span>:\n",
       "converted to <span style=\"font-weight: bold\">float64</span>                                        \n",
       "</pre>\n"
      ],
      "text/plain": [
       "<rich.jupyter.JupyterRenderable at 0x7f911d2ba8b0>"
      ]
     },
     "metadata": {},
     "output_type": "display_data"
    },
    {
     "data": {
      "text/html": [
       "<pre style=\"white-space:pre;overflow-x:auto;line-height:normal;font-family:Menlo,'DejaVu Sans Mono',consolas,'Courier New',monospace\"><span style=\"text-decoration: underline\">my_score</span>:\n",
       "converted to <span style=\"font-weight: bold\">int64</span>                                          \n",
       "</pre>\n"
      ],
      "text/plain": [
       "<rich.jupyter.JupyterRenderable at 0x7f911d2ba790>"
      ]
     },
     "metadata": {},
     "output_type": "display_data"
    },
    {
     "data": {
      "text/html": [
       "<pre style=\"white-space:pre;overflow-x:auto;line-height:normal;font-family:Menlo,'DejaVu Sans Mono',consolas,'Courier New',monospace\"><span style=\"text-decoration: underline\">my_dvd</span>:\n",
       "converted to <span style=\"font-weight: bold\">float64</span>                                        \n",
       "</pre>\n"
      ],
      "text/plain": [
       "<rich.jupyter.JupyterRenderable at 0x7f90f17ca9d0>"
      ]
     },
     "metadata": {},
     "output_type": "display_data"
    },
    {
     "data": {
      "text/html": [
       "<pre style=\"white-space:pre;overflow-x:auto;line-height:normal;font-family:Menlo,'DejaVu Sans Mono',consolas,'Courier New',monospace\"><span style=\"text-decoration: underline\">my_storage</span>:\n",
       "converted to <span style=\"font-weight: bold\">float64</span>                                        \n",
       "</pre>\n"
      ],
      "text/plain": [
       "<rich.jupyter.JupyterRenderable at 0x7f90f17cafd0>"
      ]
     },
     "metadata": {},
     "output_type": "display_data"
    },
    {
     "data": {
      "text/html": [
       "<pre style=\"white-space:pre;overflow-x:auto;line-height:normal;font-family:Menlo,'DejaVu Sans Mono',consolas,'Courier New',monospace\"><span style=\"text-decoration: underline\">my_times_watched</span>:\n",
       "converted to <span style=\"font-weight: bold\">int64</span>                                          \n",
       "</pre>\n"
      ],
      "text/plain": [
       "<rich.jupyter.JupyterRenderable at 0x7f90f17ca9d0>"
      ]
     },
     "metadata": {},
     "output_type": "display_data"
    },
    {
     "data": {
      "text/html": [
       "<pre style=\"white-space:pre;overflow-x:auto;line-height:normal;font-family:Menlo,'DejaVu Sans Mono',consolas,'Courier New',monospace\"><span style=\"text-decoration: underline\">my_rewatching</span>:\n",
       "converted to <span style=\"font-weight: bold\">int64</span>                                          \n",
       "</pre>\n"
      ],
      "text/plain": [
       "<rich.jupyter.JupyterRenderable at 0x7f90f17cab80>"
      ]
     },
     "metadata": {},
     "output_type": "display_data"
    },
    {
     "data": {
      "text/html": [
       "<pre style=\"white-space:pre;overflow-x:auto;line-height:normal;font-family:Menlo,'DejaVu Sans Mono',consolas,'Courier New',monospace\"><span style=\"text-decoration: underline\">my_rewatching_ep</span>:\n",
       "converted to <span style=\"font-weight: bold\">int64</span>                                          \n",
       "</pre>\n"
      ],
      "text/plain": [
       "<rich.jupyter.JupyterRenderable at 0x7f90f17cad90>"
      ]
     },
     "metadata": {},
     "output_type": "display_data"
    },
    {
     "data": {
      "text/html": [
       "<pre style=\"white-space:pre;overflow-x:auto;line-height:normal;font-family:Menlo,'DejaVu Sans Mono',consolas,'Courier New',monospace\"><span style=\"text-decoration: underline\">update_on_import</span>:\n",
       "converted to <span style=\"font-weight: bold\">int64</span>                                          \n",
       "</pre>\n"
      ],
      "text/plain": [
       "<rich.jupyter.JupyterRenderable at 0x7f90f17cad90>"
      ]
     },
     "metadata": {},
     "output_type": "display_data"
    },
    {
     "data": {
      "text/html": [
       "<pre style=\"white-space:pre;overflow-x:auto;line-height:normal;font-family:Menlo,'DejaVu Sans Mono',consolas,'Courier New',monospace\"><span style=\"text-decoration: underline\">my_start_date</span>:\n",
       "converted to <span style=\"font-weight: bold\">datetime64[ns]</span>                                 \n",
       "</pre>\n"
      ],
      "text/plain": [
       "<rich.jupyter.JupyterRenderable at 0x7f90f17ca040>"
      ]
     },
     "metadata": {},
     "output_type": "display_data"
    },
    {
     "data": {
      "text/html": [
       "<pre style=\"white-space:pre;overflow-x:auto;line-height:normal;font-family:Menlo,'DejaVu Sans Mono',consolas,'Courier New',monospace\"><span style=\"text-decoration: underline\">my_finish_date</span>:\n",
       "converted to <span style=\"font-weight: bold\">datetime64[ns]</span>                                 \n",
       "</pre>\n"
      ],
      "text/plain": [
       "<rich.jupyter.JupyterRenderable at 0x7f911d2ba640>"
      ]
     },
     "metadata": {},
     "output_type": "display_data"
    }
   ],
   "source": [
    "anime = to_numeric(anime)\n",
    "anime = to_datetime(anime)"
   ]
  },
  {
   "cell_type": "code",
   "execution_count": 7,
   "metadata": {},
   "outputs": [
    {
     "data": {
      "application/vnd.jupyter.widget-view+json": {
       "model_id": "4c13b53f438e43388c10bda76afa742a",
       "version_major": 2,
       "version_minor": 0
      },
      "text/plain": [
       "QgridWidget(grid_options={'fullWidthRows': True, 'syncColumnCellResize': True, 'forceFitColumns': True, 'defau…"
      ]
     },
     "metadata": {},
     "output_type": "display_data"
    }
   ],
   "source": [
    "interesting_fields = [\n",
    "    \"series_title\",\n",
    "    \"series_type\",\n",
    "    \"series_episodes\",\n",
    "    \"my_watched_episodes\",\n",
    "    \"my_start_date\",\n",
    "    \"my_finish_date\",\n",
    "    \"my_score\",\n",
    "    \"my_status\",\n",
    "    \"my_tags\",\n",
    "]\n",
    "\n",
    "anime_qw = qgrid.show_grid(anime[interesting_fields], show_toolbar=True)\n",
    "anime_qw"
   ]
  },
  {
   "cell_type": "code",
   "execution_count": 8,
   "metadata": {},
   "outputs": [],
   "source": [
    "sublists = {}\n",
    "for status in np.unique(anime[\"my_status\"].values):\n",
    "    sublists[status] = anime[anime[\"my_status\"] == status]"
   ]
  },
  {
   "cell_type": "code",
   "execution_count": 9,
   "metadata": {
    "scrolled": true
   },
   "outputs": [
    {
     "data": {
      "text/html": [
       "<div>\n",
       "<style scoped>\n",
       "    .dataframe tbody tr th:only-of-type {\n",
       "        vertical-align: middle;\n",
       "    }\n",
       "\n",
       "    .dataframe tbody tr th {\n",
       "        vertical-align: top;\n",
       "    }\n",
       "\n",
       "    .dataframe thead th {\n",
       "        text-align: right;\n",
       "    }\n",
       "</style>\n",
       "<table border=\"1\" class=\"dataframe\">\n",
       "  <thead>\n",
       "    <tr style=\"text-align: right;\">\n",
       "      <th></th>\n",
       "      <th>series_animedb_id</th>\n",
       "      <th>series_title</th>\n",
       "      <th>series_type</th>\n",
       "      <th>series_episodes</th>\n",
       "      <th>my_id</th>\n",
       "      <th>my_watched_episodes</th>\n",
       "      <th>my_start_date</th>\n",
       "      <th>my_finish_date</th>\n",
       "      <th>my_rated</th>\n",
       "      <th>my_score</th>\n",
       "      <th>my_dvd</th>\n",
       "      <th>my_storage</th>\n",
       "      <th>my_status</th>\n",
       "      <th>my_comments</th>\n",
       "      <th>my_times_watched</th>\n",
       "      <th>my_rewatch_value</th>\n",
       "      <th>my_tags</th>\n",
       "      <th>my_rewatching</th>\n",
       "      <th>my_rewatching_ep</th>\n",
       "      <th>update_on_import</th>\n",
       "    </tr>\n",
       "  </thead>\n",
       "  <tbody>\n",
       "    <tr>\n",
       "      <th>46</th>\n",
       "      <td>36456</td>\n",
       "      <td>Boku no Hero Academia 3rd Season</td>\n",
       "      <td>TV</td>\n",
       "      <td>25</td>\n",
       "      <td>0</td>\n",
       "      <td>25</td>\n",
       "      <td>NaT</td>\n",
       "      <td>2018-10-04</td>\n",
       "      <td>NaN</td>\n",
       "      <td>0</td>\n",
       "      <td>NaN</td>\n",
       "      <td>NaN</td>\n",
       "      <td>Completed</td>\n",
       "      <td>None</td>\n",
       "      <td>0</td>\n",
       "      <td>None</td>\n",
       "      <td>None</td>\n",
       "      <td>0</td>\n",
       "      <td>0</td>\n",
       "      <td>0</td>\n",
       "    </tr>\n",
       "    <tr>\n",
       "      <th>101</th>\n",
       "      <td>780</td>\n",
       "      <td>Detective Conan Movie 02: The Fourteenth Target</td>\n",
       "      <td>Movie</td>\n",
       "      <td>1</td>\n",
       "      <td>0</td>\n",
       "      <td>1</td>\n",
       "      <td>NaT</td>\n",
       "      <td>NaT</td>\n",
       "      <td>NaN</td>\n",
       "      <td>0</td>\n",
       "      <td>NaN</td>\n",
       "      <td>NaN</td>\n",
       "      <td>Completed</td>\n",
       "      <td>None</td>\n",
       "      <td>0</td>\n",
       "      <td>None</td>\n",
       "      <td>None</td>\n",
       "      <td>0</td>\n",
       "      <td>0</td>\n",
       "      <td>0</td>\n",
       "    </tr>\n",
       "    <tr>\n",
       "      <th>102</th>\n",
       "      <td>781</td>\n",
       "      <td>Detective Conan Movie 03: The Last Wizard of t...</td>\n",
       "      <td>Movie</td>\n",
       "      <td>1</td>\n",
       "      <td>0</td>\n",
       "      <td>1</td>\n",
       "      <td>NaT</td>\n",
       "      <td>NaT</td>\n",
       "      <td>NaN</td>\n",
       "      <td>0</td>\n",
       "      <td>NaN</td>\n",
       "      <td>NaN</td>\n",
       "      <td>Completed</td>\n",
       "      <td>None</td>\n",
       "      <td>0</td>\n",
       "      <td>None</td>\n",
       "      <td>None</td>\n",
       "      <td>0</td>\n",
       "      <td>0</td>\n",
       "      <td>0</td>\n",
       "    </tr>\n",
       "    <tr>\n",
       "      <th>103</th>\n",
       "      <td>1363</td>\n",
       "      <td>Detective Conan Movie 04: Captured in Her Eyes</td>\n",
       "      <td>Movie</td>\n",
       "      <td>1</td>\n",
       "      <td>0</td>\n",
       "      <td>1</td>\n",
       "      <td>NaT</td>\n",
       "      <td>NaT</td>\n",
       "      <td>NaN</td>\n",
       "      <td>0</td>\n",
       "      <td>NaN</td>\n",
       "      <td>NaN</td>\n",
       "      <td>Completed</td>\n",
       "      <td>None</td>\n",
       "      <td>0</td>\n",
       "      <td>None</td>\n",
       "      <td>None</td>\n",
       "      <td>0</td>\n",
       "      <td>0</td>\n",
       "      <td>0</td>\n",
       "    </tr>\n",
       "    <tr>\n",
       "      <th>106</th>\n",
       "      <td>1366</td>\n",
       "      <td>Detective Conan Movie 07: Crossroad in the Anc...</td>\n",
       "      <td>Movie</td>\n",
       "      <td>1</td>\n",
       "      <td>0</td>\n",
       "      <td>1</td>\n",
       "      <td>NaT</td>\n",
       "      <td>NaT</td>\n",
       "      <td>NaN</td>\n",
       "      <td>0</td>\n",
       "      <td>NaN</td>\n",
       "      <td>NaN</td>\n",
       "      <td>Completed</td>\n",
       "      <td>None</td>\n",
       "      <td>0</td>\n",
       "      <td>None</td>\n",
       "      <td>None</td>\n",
       "      <td>0</td>\n",
       "      <td>0</td>\n",
       "      <td>0</td>\n",
       "    </tr>\n",
       "    <tr>\n",
       "      <th>108</th>\n",
       "      <td>1505</td>\n",
       "      <td>Detective Conan Movie 09: Strategy Above the D...</td>\n",
       "      <td>Movie</td>\n",
       "      <td>1</td>\n",
       "      <td>0</td>\n",
       "      <td>1</td>\n",
       "      <td>NaT</td>\n",
       "      <td>NaT</td>\n",
       "      <td>NaN</td>\n",
       "      <td>0</td>\n",
       "      <td>NaN</td>\n",
       "      <td>NaN</td>\n",
       "      <td>Completed</td>\n",
       "      <td>None</td>\n",
       "      <td>0</td>\n",
       "      <td>None</td>\n",
       "      <td>None</td>\n",
       "      <td>0</td>\n",
       "      <td>0</td>\n",
       "      <td>0</td>\n",
       "    </tr>\n",
       "    <tr>\n",
       "      <th>109</th>\n",
       "      <td>1506</td>\n",
       "      <td>Detective Conan Movie 10: Requiem of the Detec...</td>\n",
       "      <td>Movie</td>\n",
       "      <td>1</td>\n",
       "      <td>0</td>\n",
       "      <td>1</td>\n",
       "      <td>NaT</td>\n",
       "      <td>NaT</td>\n",
       "      <td>NaN</td>\n",
       "      <td>0</td>\n",
       "      <td>NaN</td>\n",
       "      <td>NaN</td>\n",
       "      <td>Completed</td>\n",
       "      <td>None</td>\n",
       "      <td>0</td>\n",
       "      <td>None</td>\n",
       "      <td>None</td>\n",
       "      <td>0</td>\n",
       "      <td>0</td>\n",
       "      <td>0</td>\n",
       "    </tr>\n",
       "    <tr>\n",
       "      <th>110</th>\n",
       "      <td>2171</td>\n",
       "      <td>Detective Conan Movie 11: Jolly Roger in the D...</td>\n",
       "      <td>Movie</td>\n",
       "      <td>1</td>\n",
       "      <td>0</td>\n",
       "      <td>1</td>\n",
       "      <td>NaT</td>\n",
       "      <td>NaT</td>\n",
       "      <td>NaN</td>\n",
       "      <td>0</td>\n",
       "      <td>NaN</td>\n",
       "      <td>NaN</td>\n",
       "      <td>Completed</td>\n",
       "      <td>None</td>\n",
       "      <td>0</td>\n",
       "      <td>None</td>\n",
       "      <td>None</td>\n",
       "      <td>0</td>\n",
       "      <td>0</td>\n",
       "      <td>0</td>\n",
       "    </tr>\n",
       "    <tr>\n",
       "      <th>111</th>\n",
       "      <td>4447</td>\n",
       "      <td>Detective Conan Movie 12: Full Score of Fear</td>\n",
       "      <td>Movie</td>\n",
       "      <td>1</td>\n",
       "      <td>0</td>\n",
       "      <td>1</td>\n",
       "      <td>NaT</td>\n",
       "      <td>NaT</td>\n",
       "      <td>NaN</td>\n",
       "      <td>0</td>\n",
       "      <td>NaN</td>\n",
       "      <td>NaN</td>\n",
       "      <td>Completed</td>\n",
       "      <td>None</td>\n",
       "      <td>0</td>\n",
       "      <td>None</td>\n",
       "      <td>None</td>\n",
       "      <td>0</td>\n",
       "      <td>0</td>\n",
       "      <td>0</td>\n",
       "    </tr>\n",
       "    <tr>\n",
       "      <th>112</th>\n",
       "      <td>5460</td>\n",
       "      <td>Detective Conan Movie 13: The Raven Chaser</td>\n",
       "      <td>Movie</td>\n",
       "      <td>1</td>\n",
       "      <td>0</td>\n",
       "      <td>1</td>\n",
       "      <td>NaT</td>\n",
       "      <td>NaT</td>\n",
       "      <td>NaN</td>\n",
       "      <td>0</td>\n",
       "      <td>NaN</td>\n",
       "      <td>NaN</td>\n",
       "      <td>Completed</td>\n",
       "      <td>None</td>\n",
       "      <td>0</td>\n",
       "      <td>None</td>\n",
       "      <td>None</td>\n",
       "      <td>0</td>\n",
       "      <td>0</td>\n",
       "      <td>0</td>\n",
       "    </tr>\n",
       "    <tr>\n",
       "      <th>113</th>\n",
       "      <td>6467</td>\n",
       "      <td>Detective Conan Movie 14: The Lost Ship in the...</td>\n",
       "      <td>Movie</td>\n",
       "      <td>1</td>\n",
       "      <td>0</td>\n",
       "      <td>1</td>\n",
       "      <td>NaT</td>\n",
       "      <td>NaT</td>\n",
       "      <td>NaN</td>\n",
       "      <td>0</td>\n",
       "      <td>NaN</td>\n",
       "      <td>NaN</td>\n",
       "      <td>Completed</td>\n",
       "      <td>None</td>\n",
       "      <td>0</td>\n",
       "      <td>None</td>\n",
       "      <td>None</td>\n",
       "      <td>0</td>\n",
       "      <td>0</td>\n",
       "      <td>0</td>\n",
       "    </tr>\n",
       "    <tr>\n",
       "      <th>114</th>\n",
       "      <td>9963</td>\n",
       "      <td>Detective Conan Movie 15: Quarter of Silence</td>\n",
       "      <td>Movie</td>\n",
       "      <td>1</td>\n",
       "      <td>0</td>\n",
       "      <td>1</td>\n",
       "      <td>NaT</td>\n",
       "      <td>NaT</td>\n",
       "      <td>NaN</td>\n",
       "      <td>0</td>\n",
       "      <td>NaN</td>\n",
       "      <td>NaN</td>\n",
       "      <td>Completed</td>\n",
       "      <td>None</td>\n",
       "      <td>0</td>\n",
       "      <td>None</td>\n",
       "      <td>None</td>\n",
       "      <td>0</td>\n",
       "      <td>0</td>\n",
       "      <td>0</td>\n",
       "    </tr>\n",
       "    <tr>\n",
       "      <th>115</th>\n",
       "      <td>12117</td>\n",
       "      <td>Detective Conan Movie 16: The Eleventh Striker</td>\n",
       "      <td>Movie</td>\n",
       "      <td>1</td>\n",
       "      <td>0</td>\n",
       "      <td>1</td>\n",
       "      <td>NaT</td>\n",
       "      <td>NaT</td>\n",
       "      <td>NaN</td>\n",
       "      <td>0</td>\n",
       "      <td>NaN</td>\n",
       "      <td>NaN</td>\n",
       "      <td>Completed</td>\n",
       "      <td>None</td>\n",
       "      <td>0</td>\n",
       "      <td>None</td>\n",
       "      <td>None</td>\n",
       "      <td>0</td>\n",
       "      <td>0</td>\n",
       "      <td>0</td>\n",
       "    </tr>\n",
       "    <tr>\n",
       "      <th>157</th>\n",
       "      <td>223</td>\n",
       "      <td>Dragon Ball</td>\n",
       "      <td>TV</td>\n",
       "      <td>153</td>\n",
       "      <td>0</td>\n",
       "      <td>153</td>\n",
       "      <td>NaT</td>\n",
       "      <td>NaT</td>\n",
       "      <td>NaN</td>\n",
       "      <td>0</td>\n",
       "      <td>NaN</td>\n",
       "      <td>NaN</td>\n",
       "      <td>Completed</td>\n",
       "      <td>None</td>\n",
       "      <td>0</td>\n",
       "      <td>None</td>\n",
       "      <td>None</td>\n",
       "      <td>0</td>\n",
       "      <td>0</td>\n",
       "      <td>0</td>\n",
       "    </tr>\n",
       "    <tr>\n",
       "      <th>197</th>\n",
       "      <td>10087</td>\n",
       "      <td>Fate/Zero</td>\n",
       "      <td>TV</td>\n",
       "      <td>13</td>\n",
       "      <td>0</td>\n",
       "      <td>13</td>\n",
       "      <td>NaT</td>\n",
       "      <td>2020-06-20</td>\n",
       "      <td>NaN</td>\n",
       "      <td>0</td>\n",
       "      <td>NaN</td>\n",
       "      <td>NaN</td>\n",
       "      <td>Completed</td>\n",
       "      <td>None</td>\n",
       "      <td>0</td>\n",
       "      <td>None</td>\n",
       "      <td>None</td>\n",
       "      <td>0</td>\n",
       "      <td>0</td>\n",
       "      <td>0</td>\n",
       "    </tr>\n",
       "    <tr>\n",
       "      <th>404</th>\n",
       "      <td>26243</td>\n",
       "      <td>Owari no Seraph</td>\n",
       "      <td>TV</td>\n",
       "      <td>12</td>\n",
       "      <td>0</td>\n",
       "      <td>12</td>\n",
       "      <td>NaT</td>\n",
       "      <td>NaT</td>\n",
       "      <td>NaN</td>\n",
       "      <td>0</td>\n",
       "      <td>NaN</td>\n",
       "      <td>NaN</td>\n",
       "      <td>Completed</td>\n",
       "      <td>None</td>\n",
       "      <td>0</td>\n",
       "      <td>None</td>\n",
       "      <td>None</td>\n",
       "      <td>0</td>\n",
       "      <td>0</td>\n",
       "      <td>0</td>\n",
       "    </tr>\n",
       "    <tr>\n",
       "      <th>406</th>\n",
       "      <td>28927</td>\n",
       "      <td>Owari no Seraph: Nagoya Kessen-hen</td>\n",
       "      <td>TV</td>\n",
       "      <td>12</td>\n",
       "      <td>0</td>\n",
       "      <td>12</td>\n",
       "      <td>NaT</td>\n",
       "      <td>NaT</td>\n",
       "      <td>NaN</td>\n",
       "      <td>0</td>\n",
       "      <td>NaN</td>\n",
       "      <td>NaN</td>\n",
       "      <td>Completed</td>\n",
       "      <td>None</td>\n",
       "      <td>0</td>\n",
       "      <td>None</td>\n",
       "      <td>None</td>\n",
       "      <td>0</td>\n",
       "      <td>0</td>\n",
       "      <td>0</td>\n",
       "    </tr>\n",
       "    <tr>\n",
       "      <th>436</th>\n",
       "      <td>23273</td>\n",
       "      <td>Shigatsu wa Kimi no Uso</td>\n",
       "      <td>TV</td>\n",
       "      <td>22</td>\n",
       "      <td>0</td>\n",
       "      <td>22</td>\n",
       "      <td>2019-05-21</td>\n",
       "      <td>2019-06-10</td>\n",
       "      <td>NaN</td>\n",
       "      <td>0</td>\n",
       "      <td>NaN</td>\n",
       "      <td>NaN</td>\n",
       "      <td>Completed</td>\n",
       "      <td>None</td>\n",
       "      <td>0</td>\n",
       "      <td>None</td>\n",
       "      <td>None</td>\n",
       "      <td>0</td>\n",
       "      <td>0</td>\n",
       "      <td>0</td>\n",
       "    </tr>\n",
       "    <tr>\n",
       "      <th>467</th>\n",
       "      <td>32188</td>\n",
       "      <td>Steins;Gate: Kyoukaimenjou no Missing Link - D...</td>\n",
       "      <td>Special</td>\n",
       "      <td>1</td>\n",
       "      <td>0</td>\n",
       "      <td>1</td>\n",
       "      <td>2018-10-05</td>\n",
       "      <td>2018-10-05</td>\n",
       "      <td>NaN</td>\n",
       "      <td>0</td>\n",
       "      <td>NaN</td>\n",
       "      <td>NaN</td>\n",
       "      <td>Completed</td>\n",
       "      <td>None</td>\n",
       "      <td>0</td>\n",
       "      <td>None</td>\n",
       "      <td>None</td>\n",
       "      <td>0</td>\n",
       "      <td>0</td>\n",
       "      <td>0</td>\n",
       "    </tr>\n",
       "    <tr>\n",
       "      <th>474</th>\n",
       "      <td>849</td>\n",
       "      <td>Suzumiya Haruhi no Yuuutsu</td>\n",
       "      <td>TV</td>\n",
       "      <td>14</td>\n",
       "      <td>0</td>\n",
       "      <td>14</td>\n",
       "      <td>NaT</td>\n",
       "      <td>NaT</td>\n",
       "      <td>NaN</td>\n",
       "      <td>0</td>\n",
       "      <td>NaN</td>\n",
       "      <td>NaN</td>\n",
       "      <td>Completed</td>\n",
       "      <td>None</td>\n",
       "      <td>0</td>\n",
       "      <td>None</td>\n",
       "      <td>None</td>\n",
       "      <td>0</td>\n",
       "      <td>0</td>\n",
       "      <td>0</td>\n",
       "    </tr>\n",
       "    <tr>\n",
       "      <th>475</th>\n",
       "      <td>4382</td>\n",
       "      <td>Suzumiya Haruhi no Yuuutsu (2009)</td>\n",
       "      <td>TV</td>\n",
       "      <td>14</td>\n",
       "      <td>0</td>\n",
       "      <td>14</td>\n",
       "      <td>NaT</td>\n",
       "      <td>NaT</td>\n",
       "      <td>NaN</td>\n",
       "      <td>0</td>\n",
       "      <td>NaN</td>\n",
       "      <td>NaN</td>\n",
       "      <td>Completed</td>\n",
       "      <td>None</td>\n",
       "      <td>0</td>\n",
       "      <td>None</td>\n",
       "      <td>None</td>\n",
       "      <td>0</td>\n",
       "      <td>0</td>\n",
       "      <td>0</td>\n",
       "    </tr>\n",
       "    <tr>\n",
       "      <th>509</th>\n",
       "      <td>21867</td>\n",
       "      <td>The Disappearance of Conan Edogawa: The Worst ...</td>\n",
       "      <td>Special</td>\n",
       "      <td>1</td>\n",
       "      <td>0</td>\n",
       "      <td>1</td>\n",
       "      <td>NaT</td>\n",
       "      <td>NaT</td>\n",
       "      <td>NaN</td>\n",
       "      <td>0</td>\n",
       "      <td>NaN</td>\n",
       "      <td>NaN</td>\n",
       "      <td>Completed</td>\n",
       "      <td>None</td>\n",
       "      <td>0</td>\n",
       "      <td>None</td>\n",
       "      <td>None</td>\n",
       "      <td>0</td>\n",
       "      <td>0</td>\n",
       "      <td>0</td>\n",
       "    </tr>\n",
       "  </tbody>\n",
       "</table>\n",
       "</div>"
      ],
      "text/plain": [
       "     series_animedb_id                                       series_title  \\\n",
       "46               36456                   Boku no Hero Academia 3rd Season   \n",
       "101                780    Detective Conan Movie 02: The Fourteenth Target   \n",
       "102                781  Detective Conan Movie 03: The Last Wizard of t...   \n",
       "103               1363     Detective Conan Movie 04: Captured in Her Eyes   \n",
       "106               1366  Detective Conan Movie 07: Crossroad in the Anc...   \n",
       "108               1505  Detective Conan Movie 09: Strategy Above the D...   \n",
       "109               1506  Detective Conan Movie 10: Requiem of the Detec...   \n",
       "110               2171  Detective Conan Movie 11: Jolly Roger in the D...   \n",
       "111               4447       Detective Conan Movie 12: Full Score of Fear   \n",
       "112               5460         Detective Conan Movie 13: The Raven Chaser   \n",
       "113               6467  Detective Conan Movie 14: The Lost Ship in the...   \n",
       "114               9963       Detective Conan Movie 15: Quarter of Silence   \n",
       "115              12117     Detective Conan Movie 16: The Eleventh Striker   \n",
       "157                223                                        Dragon Ball   \n",
       "197              10087                                          Fate/Zero   \n",
       "404              26243                                    Owari no Seraph   \n",
       "406              28927                 Owari no Seraph: Nagoya Kessen-hen   \n",
       "436              23273                            Shigatsu wa Kimi no Uso   \n",
       "467              32188  Steins;Gate: Kyoukaimenjou no Missing Link - D...   \n",
       "474                849                         Suzumiya Haruhi no Yuuutsu   \n",
       "475               4382                  Suzumiya Haruhi no Yuuutsu (2009)   \n",
       "509              21867  The Disappearance of Conan Edogawa: The Worst ...   \n",
       "\n",
       "    series_type  series_episodes  my_id  my_watched_episodes my_start_date  \\\n",
       "46           TV               25      0                   25           NaT   \n",
       "101       Movie                1      0                    1           NaT   \n",
       "102       Movie                1      0                    1           NaT   \n",
       "103       Movie                1      0                    1           NaT   \n",
       "106       Movie                1      0                    1           NaT   \n",
       "108       Movie                1      0                    1           NaT   \n",
       "109       Movie                1      0                    1           NaT   \n",
       "110       Movie                1      0                    1           NaT   \n",
       "111       Movie                1      0                    1           NaT   \n",
       "112       Movie                1      0                    1           NaT   \n",
       "113       Movie                1      0                    1           NaT   \n",
       "114       Movie                1      0                    1           NaT   \n",
       "115       Movie                1      0                    1           NaT   \n",
       "157          TV              153      0                  153           NaT   \n",
       "197          TV               13      0                   13           NaT   \n",
       "404          TV               12      0                   12           NaT   \n",
       "406          TV               12      0                   12           NaT   \n",
       "436          TV               22      0                   22    2019-05-21   \n",
       "467     Special                1      0                    1    2018-10-05   \n",
       "474          TV               14      0                   14           NaT   \n",
       "475          TV               14      0                   14           NaT   \n",
       "509     Special                1      0                    1           NaT   \n",
       "\n",
       "    my_finish_date  my_rated  my_score  my_dvd  my_storage  my_status  \\\n",
       "46      2018-10-04       NaN         0     NaN         NaN  Completed   \n",
       "101            NaT       NaN         0     NaN         NaN  Completed   \n",
       "102            NaT       NaN         0     NaN         NaN  Completed   \n",
       "103            NaT       NaN         0     NaN         NaN  Completed   \n",
       "106            NaT       NaN         0     NaN         NaN  Completed   \n",
       "108            NaT       NaN         0     NaN         NaN  Completed   \n",
       "109            NaT       NaN         0     NaN         NaN  Completed   \n",
       "110            NaT       NaN         0     NaN         NaN  Completed   \n",
       "111            NaT       NaN         0     NaN         NaN  Completed   \n",
       "112            NaT       NaN         0     NaN         NaN  Completed   \n",
       "113            NaT       NaN         0     NaN         NaN  Completed   \n",
       "114            NaT       NaN         0     NaN         NaN  Completed   \n",
       "115            NaT       NaN         0     NaN         NaN  Completed   \n",
       "157            NaT       NaN         0     NaN         NaN  Completed   \n",
       "197     2020-06-20       NaN         0     NaN         NaN  Completed   \n",
       "404            NaT       NaN         0     NaN         NaN  Completed   \n",
       "406            NaT       NaN         0     NaN         NaN  Completed   \n",
       "436     2019-06-10       NaN         0     NaN         NaN  Completed   \n",
       "467     2018-10-05       NaN         0     NaN         NaN  Completed   \n",
       "474            NaT       NaN         0     NaN         NaN  Completed   \n",
       "475            NaT       NaN         0     NaN         NaN  Completed   \n",
       "509            NaT       NaN         0     NaN         NaN  Completed   \n",
       "\n",
       "    my_comments  my_times_watched my_rewatch_value my_tags  my_rewatching  \\\n",
       "46         None                 0             None    None              0   \n",
       "101        None                 0             None    None              0   \n",
       "102        None                 0             None    None              0   \n",
       "103        None                 0             None    None              0   \n",
       "106        None                 0             None    None              0   \n",
       "108        None                 0             None    None              0   \n",
       "109        None                 0             None    None              0   \n",
       "110        None                 0             None    None              0   \n",
       "111        None                 0             None    None              0   \n",
       "112        None                 0             None    None              0   \n",
       "113        None                 0             None    None              0   \n",
       "114        None                 0             None    None              0   \n",
       "115        None                 0             None    None              0   \n",
       "157        None                 0             None    None              0   \n",
       "197        None                 0             None    None              0   \n",
       "404        None                 0             None    None              0   \n",
       "406        None                 0             None    None              0   \n",
       "436        None                 0             None    None              0   \n",
       "467        None                 0             None    None              0   \n",
       "474        None                 0             None    None              0   \n",
       "475        None                 0             None    None              0   \n",
       "509        None                 0             None    None              0   \n",
       "\n",
       "     my_rewatching_ep  update_on_import  \n",
       "46                  0                 0  \n",
       "101                 0                 0  \n",
       "102                 0                 0  \n",
       "103                 0                 0  \n",
       "106                 0                 0  \n",
       "108                 0                 0  \n",
       "109                 0                 0  \n",
       "110                 0                 0  \n",
       "111                 0                 0  \n",
       "112                 0                 0  \n",
       "113                 0                 0  \n",
       "114                 0                 0  \n",
       "115                 0                 0  \n",
       "157                 0                 0  \n",
       "197                 0                 0  \n",
       "404                 0                 0  \n",
       "406                 0                 0  \n",
       "436                 0                 0  \n",
       "467                 0                 0  \n",
       "474                 0                 0  \n",
       "475                 0                 0  \n",
       "509                 0                 0  "
      ]
     },
     "execution_count": 9,
     "metadata": {},
     "output_type": "execute_result"
    }
   ],
   "source": [
    "sublists[\"Completed\"][sublists[\"Completed\"][\"my_score\"] == 0]"
   ]
  },
  {
   "cell_type": "markdown",
   "metadata": {},
   "source": [
    "## Manga"
   ]
  },
  {
   "cell_type": "code",
   "execution_count": 10,
   "metadata": {},
   "outputs": [
    {
     "data": {
      "text/plain": [
       "user_id                   6962147\n",
       "user_name                Annibale\n",
       "user_export_type                2\n",
       "user_total_manga               38\n",
       "user_total_reading              9\n",
       "user_total_completed            1\n",
       "user_total_onhold               0\n",
       "user_total_dropped              0\n",
       "user_total_plantoread          28\n",
       "dtype: object"
      ]
     },
     "execution_count": 10,
     "metadata": {},
     "output_type": "execute_result"
    }
   ],
   "source": [
    "manga_list_file = glob.glob(\"data/mangalist*.gz\")[0]\n",
    "\n",
    "with gzip.open(manga_list_file, \"r\") as archive:\n",
    "    my_manga_list = archive.read()\n",
    "\n",
    "manga_info, manga = read_list(my_manga_list, \"manga\")\n",
    "\n",
    "manga_info"
   ]
  },
  {
   "cell_type": "code",
   "execution_count": 11,
   "metadata": {
    "scrolled": true
   },
   "outputs": [
    {
     "data": {
      "text/html": [
       "<pre style=\"white-space:pre;overflow-x:auto;line-height:normal;font-family:Menlo,'DejaVu Sans Mono',consolas,'Courier New',monospace\"><span style=\"text-decoration: underline\">manga_mangadb_id</span>:\n",
       "converted to <span style=\"font-weight: bold\">int64</span>                                          \n",
       "</pre>\n"
      ],
      "text/plain": [
       "<rich.jupyter.JupyterRenderable at 0x7f90f16c0760>"
      ]
     },
     "metadata": {},
     "output_type": "display_data"
    },
    {
     "data": {
      "text/html": [
       "<pre style=\"white-space:pre;overflow-x:auto;line-height:normal;font-family:Menlo,'DejaVu Sans Mono',consolas,'Courier New',monospace\"><span style=\"text-decoration: underline\">manga_volumes</span>:\n",
       "converted to <span style=\"font-weight: bold\">int64</span>                                          \n",
       "</pre>\n"
      ],
      "text/plain": [
       "<rich.jupyter.JupyterRenderable at 0x7f90f16c0700>"
      ]
     },
     "metadata": {},
     "output_type": "display_data"
    },
    {
     "data": {
      "text/html": [
       "<pre style=\"white-space:pre;overflow-x:auto;line-height:normal;font-family:Menlo,'DejaVu Sans Mono',consolas,'Courier New',monospace\"><span style=\"text-decoration: underline\">manga_chapters</span>:\n",
       "converted to <span style=\"font-weight: bold\">int64</span>                                          \n",
       "</pre>\n"
      ],
      "text/plain": [
       "<rich.jupyter.JupyterRenderable at 0x7f90f1777550>"
      ]
     },
     "metadata": {},
     "output_type": "display_data"
    },
    {
     "data": {
      "text/html": [
       "<pre style=\"white-space:pre;overflow-x:auto;line-height:normal;font-family:Menlo,'DejaVu Sans Mono',consolas,'Courier New',monospace\"><span style=\"text-decoration: underline\">my_id</span>:\n",
       "converted to <span style=\"font-weight: bold\">int64</span>                                          \n",
       "</pre>\n"
      ],
      "text/plain": [
       "<rich.jupyter.JupyterRenderable at 0x7f90f16c0af0>"
      ]
     },
     "metadata": {},
     "output_type": "display_data"
    },
    {
     "data": {
      "text/html": [
       "<pre style=\"white-space:pre;overflow-x:auto;line-height:normal;font-family:Menlo,'DejaVu Sans Mono',consolas,'Courier New',monospace\"><span style=\"text-decoration: underline\">my_read_volumes</span>:\n",
       "converted to <span style=\"font-weight: bold\">int64</span>                                          \n",
       "</pre>\n"
      ],
      "text/plain": [
       "<rich.jupyter.JupyterRenderable at 0x7f90f16c0940>"
      ]
     },
     "metadata": {},
     "output_type": "display_data"
    },
    {
     "data": {
      "text/html": [
       "<pre style=\"white-space:pre;overflow-x:auto;line-height:normal;font-family:Menlo,'DejaVu Sans Mono',consolas,'Courier New',monospace\"><span style=\"text-decoration: underline\">my_read_chapters</span>:\n",
       "converted to <span style=\"font-weight: bold\">int64</span>                                          \n",
       "</pre>\n"
      ],
      "text/plain": [
       "<rich.jupyter.JupyterRenderable at 0x7f911d2ba9d0>"
      ]
     },
     "metadata": {},
     "output_type": "display_data"
    },
    {
     "data": {
      "text/html": [
       "<pre style=\"white-space:pre;overflow-x:auto;line-height:normal;font-family:Menlo,'DejaVu Sans Mono',consolas,'Courier New',monospace\"><span style=\"text-decoration: underline\">my_scanalation_group</span>:\n",
       "converted to <span style=\"font-weight: bold\">float64</span>                                        \n",
       "</pre>\n"
      ],
      "text/plain": [
       "<rich.jupyter.JupyterRenderable at 0x7f90f1777790>"
      ]
     },
     "metadata": {},
     "output_type": "display_data"
    },
    {
     "data": {
      "text/html": [
       "<pre style=\"white-space:pre;overflow-x:auto;line-height:normal;font-family:Menlo,'DejaVu Sans Mono',consolas,'Courier New',monospace\"><span style=\"text-decoration: underline\">my_score</span>:\n",
       "converted to <span style=\"font-weight: bold\">int64</span>                                          \n",
       "</pre>\n"
      ],
      "text/plain": [
       "<rich.jupyter.JupyterRenderable at 0x7f911db225e0>"
      ]
     },
     "metadata": {},
     "output_type": "display_data"
    },
    {
     "data": {
      "text/html": [
       "<pre style=\"white-space:pre;overflow-x:auto;line-height:normal;font-family:Menlo,'DejaVu Sans Mono',consolas,'Courier New',monospace\"><span style=\"text-decoration: underline\">my_storage</span>:\n",
       "converted to <span style=\"font-weight: bold\">float64</span>                                        \n",
       "</pre>\n"
      ],
      "text/plain": [
       "<rich.jupyter.JupyterRenderable at 0x7f90f17772e0>"
      ]
     },
     "metadata": {},
     "output_type": "display_data"
    },
    {
     "data": {
      "text/html": [
       "<pre style=\"white-space:pre;overflow-x:auto;line-height:normal;font-family:Menlo,'DejaVu Sans Mono',consolas,'Courier New',monospace\"><span style=\"text-decoration: underline\">my_comments</span>:\n",
       "converted to <span style=\"font-weight: bold\">float64</span>                                        \n",
       "</pre>\n"
      ],
      "text/plain": [
       "<rich.jupyter.JupyterRenderable at 0x7f90f1777c40>"
      ]
     },
     "metadata": {},
     "output_type": "display_data"
    },
    {
     "data": {
      "text/html": [
       "<pre style=\"white-space:pre;overflow-x:auto;line-height:normal;font-family:Menlo,'DejaVu Sans Mono',consolas,'Courier New',monospace\"><span style=\"text-decoration: underline\">my_times_read</span>:\n",
       "converted to <span style=\"font-weight: bold\">int64</span>                                          \n",
       "</pre>\n"
      ],
      "text/plain": [
       "<rich.jupyter.JupyterRenderable at 0x7f90f1777b80>"
      ]
     },
     "metadata": {},
     "output_type": "display_data"
    },
    {
     "data": {
      "text/html": [
       "<pre style=\"white-space:pre;overflow-x:auto;line-height:normal;font-family:Menlo,'DejaVu Sans Mono',consolas,'Courier New',monospace\"><span style=\"text-decoration: underline\">my_tags</span>:\n",
       "converted to <span style=\"font-weight: bold\">float64</span>                                        \n",
       "</pre>\n"
      ],
      "text/plain": [
       "<rich.jupyter.JupyterRenderable at 0x7f90f1777c40>"
      ]
     },
     "metadata": {},
     "output_type": "display_data"
    },
    {
     "data": {
      "text/html": [
       "<pre style=\"white-space:pre;overflow-x:auto;line-height:normal;font-family:Menlo,'DejaVu Sans Mono',consolas,'Courier New',monospace\"><span style=\"text-decoration: underline\">my_reread_value</span>:\n",
       "converted to <span style=\"font-weight: bold\">float64</span>                                        \n",
       "</pre>\n"
      ],
      "text/plain": [
       "<rich.jupyter.JupyterRenderable at 0x7f90f1777b80>"
      ]
     },
     "metadata": {},
     "output_type": "display_data"
    },
    {
     "data": {
      "text/html": [
       "<pre style=\"white-space:pre;overflow-x:auto;line-height:normal;font-family:Menlo,'DejaVu Sans Mono',consolas,'Courier New',monospace\"><span style=\"text-decoration: underline\">update_on_import</span>:\n",
       "converted to <span style=\"font-weight: bold\">int64</span>                                          \n",
       "</pre>\n"
      ],
      "text/plain": [
       "<rich.jupyter.JupyterRenderable at 0x7f90f1777b80>"
      ]
     },
     "metadata": {},
     "output_type": "display_data"
    },
    {
     "data": {
      "text/html": [
       "<pre style=\"white-space:pre;overflow-x:auto;line-height:normal;font-family:Menlo,'DejaVu Sans Mono',consolas,'Courier New',monospace\"><span style=\"text-decoration: underline\">my_start_date</span>:\n",
       "converted to <span style=\"font-weight: bold\">datetime64[ns]</span>                                 \n",
       "</pre>\n"
      ],
      "text/plain": [
       "<rich.jupyter.JupyterRenderable at 0x7f90f17add90>"
      ]
     },
     "metadata": {},
     "output_type": "display_data"
    },
    {
     "data": {
      "text/html": [
       "<pre style=\"white-space:pre;overflow-x:auto;line-height:normal;font-family:Menlo,'DejaVu Sans Mono',consolas,'Courier New',monospace\"><span style=\"text-decoration: underline\">my_finish_date</span>:\n",
       "converted to <span style=\"font-weight: bold\">datetime64[ns]</span>                                 \n",
       "</pre>\n"
      ],
      "text/plain": [
       "<rich.jupyter.JupyterRenderable at 0x7f90f17add90>"
      ]
     },
     "metadata": {},
     "output_type": "display_data"
    }
   ],
   "source": [
    "manga = to_numeric(manga)\n",
    "manga = to_datetime(manga)"
   ]
  },
  {
   "cell_type": "code",
   "execution_count": 12,
   "metadata": {},
   "outputs": [
    {
     "data": {
      "application/vnd.jupyter.widget-view+json": {
       "model_id": "c9f47e07c12d44ada00af6f037d5f8d7",
       "version_major": 2,
       "version_minor": 0
      },
      "text/plain": [
       "QgridWidget(grid_options={'fullWidthRows': True, 'syncColumnCellResize': True, 'forceFitColumns': True, 'defau…"
      ]
     },
     "metadata": {},
     "output_type": "display_data"
    }
   ],
   "source": [
    "manga_interesting_fields = [\n",
    "    \"manga_title\",\n",
    "    \"manga_volumes\",\n",
    "    \"manga_chapters\",\n",
    "    \"my_read_volumes\",\n",
    "    \"my_read_chapters\",\n",
    "    \"my_start_date\",\n",
    "    \"my_finish_date\",\n",
    "    \"my_scanalation_group\",\n",
    "    \"my_score\",\n",
    "    \"my_status\",\n",
    "    \"my_tags\",\n",
    "]\n",
    "\n",
    "manga_qw = qgrid.show_grid(manga[manga_interesting_fields], show_toolbar=True)\n",
    "manga_qw"
   ]
  }
 ],
 "metadata": {
  "kernelspec": {
   "display_name": "Python 3",
   "language": "python",
   "name": "python3"
  },
  "language_info": {
   "codemirror_mode": {
    "name": "ipython",
    "version": 3
   },
   "file_extension": ".py",
   "mimetype": "text/x-python",
   "name": "python",
   "nbconvert_exporter": "python",
   "pygments_lexer": "ipython3",
   "version": "3.8.3"
  }
 },
 "nbformat": 4,
 "nbformat_minor": 4
}
